{
 "cells": [
  {
   "cell_type": "markdown",
   "metadata": {},
   "source": [
    "# core\n",
    "\n",
    "> Fill in a module description here"
   ]
  },
  {
   "cell_type": "code",
   "execution_count": null,
   "metadata": {},
   "outputs": [],
   "source": [
    "#| default_exp core"
   ]
  },
  {
   "cell_type": "code",
   "execution_count": null,
   "metadata": {},
   "outputs": [],
   "source": [
    "#| hide\n",
    "from nbdev.showdoc import *"
   ]
  },
  {
   "cell_type": "code",
   "execution_count": null,
   "metadata": {},
   "outputs": [],
   "source": [
    "#| exports\n",
    "def ignore_(cell):\n",
    "    \"Ignore cell from output\"\n",
    "    del(cell['source'])"
   ]
  },
  {
   "cell_type": "markdown",
   "metadata": {},
   "source": [
    "This follows the [hide](https://github.com/fastai/nbdev/blob/46d05d40fb8bfd1f6466f3daabc1fcf300a73fde/nbdev/processors.py#L113) processor implementation in `nbdev`. When a function is given as a processor, if its name ends with `_`, its name will be used to match the directive for that action (this is implemented in [NBProcessor](https://github.com/fastai/nbdev/blob/46d05d40fb8bfd1f6466f3daabc1fcf300a73fde/nbdev/process.py#L102)), so we can name our function `ignore_` in order for it to match our directive \"#| ignore\". \n",
    "\n",
    "In order for this processor to be loaded, we need to add it to `procs` in settings.ini, which is loaded by [FilterDefaults](https://github.com/fastai/nbdev/blob/46d05d40fb8bfd1f6466f3daabc1fcf300a73fde/nbdev/processors.py#L227). \n",
    "\n",
    "All cells with this directive will then be removed when generating docs. "
   ]
  },
  {
   "cell_type": "code",
   "execution_count": null,
   "metadata": {},
   "outputs": [
    {
     "name": "stdout",
     "output_type": "stream",
     "text": [
      "this is a fake function to test the ignore directive.\n"
     ]
    }
   ],
   "source": [
    "#| ignore\n",
    "# this won't show up in docs if nbdev_ignore is installed.\n",
    "def fake_func():\n",
    "    print(\"this is a fake function to test the ignore directive.\")\n",
    "\n",
    "fake_func()"
   ]
  },
  {
   "cell_type": "code",
   "execution_count": null,
   "metadata": {},
   "outputs": [],
   "source": [
    "#| ignore\n",
    "# this won't run during testing if nbdev_ignore is installed.\n",
    "assert 3 == 4"
   ]
  }
 ],
 "metadata": {
  "kernelspec": {
   "display_name": "Python 3.7.7 ('py37')",
   "language": "python",
   "name": "python3"
  }
 },
 "nbformat": 4,
 "nbformat_minor": 4
}
