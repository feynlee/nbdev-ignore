{
 "cells": [
  {
   "cell_type": "code",
   "execution_count": null,
   "metadata": {},
   "outputs": [],
   "source": [
    "#| hide\n",
    "from nbdev_ignore.core import *"
   ]
  },
  {
   "cell_type": "markdown",
   "metadata": {},
   "source": [
    "# Nbdev-ignore\n",
    "\n",
    "> add a \"#| ignore\" directive to hide the cell and avoid execution during testing and docs generation in Jupyter notebooks when using nbdev for development."
   ]
  },
  {
   "cell_type": "markdown",
   "metadata": {},
   "source": [
    "## Install"
   ]
  },
  {
   "cell_type": "markdown",
   "metadata": {},
   "source": [
    "```sh\n",
    "pip install nbdev_ignore\n",
    "```"
   ]
  },
  {
   "cell_type": "markdown",
   "metadata": {},
   "source": [
    "# What this is\n",
    "\n",
    "When using the [nbdev](https://github.com/fastai/nbdev) library, I often find myself having to write\n",
    "\n",
    "```python\n",
    "#| hide\n",
    "#| eval: false\n",
    "...\n",
    "```\n",
    "\n",
    "in order for that cell in Jupyter Notebook to be ignored by both the tests and docs.\n",
    "It would great to have a simple directive to do this, and this is the ignore directive:\n",
    "\n",
    "```python\n",
    "#| ignore\n",
    "...\n",
    "```\n",
    "\n",
    "It's equivalent to the above directives."
   ]
  },
  {
   "cell_type": "markdown",
   "metadata": {},
   "source": [
    "## How to use"
   ]
  },
  {
   "cell_type": "markdown",
   "metadata": {},
   "source": [
    "To enable the `#| ignore` directive, in your settings.ini make sure to:\n",
    "\n",
    "- Add `nbdev_ignore` as a requirement\n",
    "- Add `procs = nbdev_igore.core:ignore_`, where it should point to the exact function being called\n",
    "- Add it to test flags: `tst_flags = ignore`, so that cells with this directive also avoids testing. If you already have other test flags, separate them with space. For example, if you already have `notest` as your test flag, then `tst_flags = notest ignore`."
   ]
  },
  {
   "cell_type": "markdown",
   "metadata": {},
   "source": [
    "## How it works\n",
    "\n",
    "There's only one function `ignore_` in this module. It's exactly the same as the [hide_]() processor in `nbdev`, so that \"#| ignore\" serves the same purpose as \"#| hide\". For details on how it works, see [here](https://feynlee.github.io/nbdev-ignore/core.html).\n",
    "\n",
    "In order for it to also serve as a test flag, we will need to manually add it to `tst_flags` (see below) so tests will ignore cells with this directive. \n",
    "Currently there's no simple way to hack the `nbdev_test` process, so this has to be done manually."
   ]
  },
  {
   "cell_type": "code",
   "execution_count": null,
   "metadata": {},
   "outputs": [],
   "source": []
  }
 ],
 "metadata": {
  "kernelspec": {
   "display_name": "py37",
   "language": "python",
   "name": "py37"
  }
 },
 "nbformat": 4,
 "nbformat_minor": 4
}
