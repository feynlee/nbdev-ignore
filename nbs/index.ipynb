{
 "cells": [
  {
   "cell_type": "code",
   "execution_count": null,
   "metadata": {},
   "outputs": [],
   "source": [
    "#| hide\n",
    "from nbdev_ignore.core import *"
   ]
  },
  {
   "cell_type": "markdown",
   "metadata": {},
   "source": [
    "# Nbdev-ignore\n",
    "\n",
    "> add a \"#| ignore\" directive to hide the cell and avoid execution during testing and docs generation in Jupyter notebooks when using nbdev for development."
   ]
  },
  {
   "cell_type": "markdown",
   "metadata": {},
   "source": [
    "## Install"
   ]
  },
  {
   "cell_type": "markdown",
   "metadata": {},
   "source": [
    "```sh\n",
    "pip install nbdev_ignore\n",
    "```"
   ]
  },
  {
   "cell_type": "markdown",
   "metadata": {},
   "source": [
    "# How it works\n",
    "\n",
    "There's only one function `ignore_` in this module. It's exactly the same as the [hide_]() processor in `nbdev`, so that \"#| ignore\" serves the same purpose as \"#| hide\". For details on how it works, see []().\n",
    "\n",
    "In order for it to also serve as a test flag, we will need to manually add it to `tst_flags` (see below), as currently there's no way to plug it into the `nbdev_test` process."
   ]
  },
  {
   "cell_type": "markdown",
   "metadata": {},
   "source": [
    "## How to use"
   ]
  },
  {
   "cell_type": "markdown",
   "metadata": {},
   "source": [
    "To enable the `#| ignore` directive, in your settings.ini make sure to:\n",
    "\n",
    "- Add `nbdev_ignore` as a requirement\n",
    "- Add `procs = nbdev_igore.core:ignore_`, where it should point to the exact function being called\n",
    "- Add it to test flags: `tst_flags = ignore`, so that cells with this directive also avoids testing. If you already have other test flags, separate them with space. For example, if you already have `notest` as your test flag, then `tst_flags = notest ignore`."
   ]
  },
  {
   "cell_type": "code",
   "execution_count": null,
   "metadata": {},
   "outputs": [],
   "source": []
  }
 ],
 "metadata": {
  "kernelspec": {
   "display_name": "Python 3.10.8 64-bit",
   "language": "python",
   "name": "python3"
  }
 },
 "nbformat": 4,
 "nbformat_minor": 4
}
